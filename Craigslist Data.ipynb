{
 "cells": [
  {
   "cell_type": "code",
   "execution_count": null,
   "metadata": {},
   "outputs": [],
   "source": [
    "import pandas as pd\n",
    "import numpy as np\n",
    "import matplotlib\n",
    "matplotlib.use('nbagg')\n",
    "import matplotlib.pyplot as plt\n",
    "import re\n",
    "import json"
   ]
  },
  {
   "cell_type": "code",
   "execution_count": null,
   "metadata": {},
   "outputs": [],
   "source": [
    "df = pd.read_json('data/craigslist.json')\n",
    "df.head(10)"
   ]
  },
  {
   "cell_type": "code",
   "execution_count": null,
   "metadata": {},
   "outputs": [],
   "source": [
    "def fix_address(address):\n",
    "    if address != None:\n",
    "        address = address.lower()\n",
    "        near_issue = address.find(\"near\")\n",
    "        apt_issue = address.find(\"apt\")\n",
    "        if near_issue != -1:\n",
    "            address = address[0:near_issue-1]\n",
    "        if apt_issue != -1:\n",
    "            address = address[0:apt_issue-1]\n",
    "        return address\n",
    "    \n",
    "# and then call apply on the series to apply the function to each element in the series\n",
    "df['address'] = df['address'].apply(fix_address)\n",
    "df.head(10)"
   ]
  },
  {
   "cell_type": "code",
   "execution_count": null,
   "metadata": {
    "scrolled": true
   },
   "outputs": [],
   "source": [
    "def fix_none(address):\n",
    "    if address != None:\n",
    "        return True\n",
    "    else:\n",
    "        return False\n",
    "\n",
    "clean_df = df[df['address'].apply(fix_none)]\n",
    "    \n",
    "df['address'] = df['address'].apply(fix_address)\n",
    "clean_df.head(10)"
   ]
  },
  {
   "cell_type": "code",
   "execution_count": null,
   "metadata": {
    "scrolled": true
   },
   "outputs": [],
   "source": [
    "usable_df = clean_df[['address','price']]\n",
    "usable_df.head(10)"
   ]
  }
 ],
 "metadata": {
  "kernelspec": {
   "display_name": "Python 3",
   "language": "python",
   "name": "python3"
  },
  "language_info": {
   "codemirror_mode": {
    "name": "ipython",
    "version": 3
   },
   "file_extension": ".py",
   "mimetype": "text/x-python",
   "name": "python",
   "nbconvert_exporter": "python",
   "pygments_lexer": "ipython3",
   "version": "3.7.4"
  }
 },
 "nbformat": 4,
 "nbformat_minor": 2
}
