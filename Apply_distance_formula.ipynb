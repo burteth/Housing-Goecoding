{
 "cells": [
  {
   "cell_type": "code",
   "execution_count": 42,
   "metadata": {},
   "outputs": [],
   "source": [
    "import pandas as pd\n",
    "import numpy as np\n",
    "import math"
   ]
  },
  {
   "cell_type": "code",
   "execution_count": 5,
   "metadata": {},
   "outputs": [],
   "source": [
    "def distance(lat1, lon1, lat2, lon2):\n",
    "  \n",
    "  p = 0.017453292519943295;    # Math.PI / 180\n",
    "  #c = math.cos;\n",
    "  a = 0.5 - math.cos((lat2 - lat1) * p)/2 + math.cos(lat1 * p) * math.cos(lat2 * p) * (1 - math.cos((lon2 - lon1) * p))/2;\n",
    "\n",
    "  return 12742 * math.asin(math.sqrt(a)); # 2 * R; R = 6371 km"
   ]
  },
  {
   "cell_type": "code",
   "execution_count": 13,
   "metadata": {},
   "outputs": [
    {
     "name": "stderr",
     "output_type": "stream",
     "text": [
      "/usr/local/anaconda3/lib/python3.7/site-packages/ipykernel_launcher.py:1: DeprecationWarning: 'U' mode is deprecated\n",
      "  \"\"\"Entry point for launching an IPython kernel.\n"
     ]
    }
   ],
   "source": [
    "df = pd.read_csv(open('data/coords.csv','rU'), encoding='utf-8')\n",
    "locations = pd.read_csv(open('data/Markers Address.csv','rU'), encoding='utf-8')"
   ]
  },
  {
   "cell_type": "code",
   "execution_count": 22,
   "metadata": {},
   "outputs": [],
   "source": [
    "edited_locations = locations[['Landmark','Latitude','Longitude']]"
   ]
  },
  {
   "cell_type": "code",
   "execution_count": 26,
   "metadata": {},
   "outputs": [],
   "source": [
    "edited_locations.set_index('Landmark',inplace=True)"
   ]
  },
  {
   "cell_type": "code",
   "execution_count": 85,
   "metadata": {},
   "outputs": [],
   "source": [
    "distances_df = pd.DataFrame()\n",
    "for i in range(len(edited_locations)):\n",
    "    \n",
    "    item = edited_locations.iloc[i]\n",
    "    distances_df[item.name] = get_series(item)"
   ]
  },
  {
   "cell_type": "code",
   "execution_count": 80,
   "metadata": {},
   "outputs": [],
   "source": [
    "def get_series(i):\n",
    "   \n",
    "    \n",
    "    p1_lat_series = pd.Series([i[\"latitude\"]]*len(df))\n",
    "    p1_lon_series = pd.Series([i[\"longitude\"]]*len(df))\n",
    "    \n",
    "    p2_lat_series = df['latitude']\n",
    "    p2_lon_series = df['longitude']\n",
    "    distances = []\n",
    "    \n",
    "    for i in range(len(df)):\n",
    "        distances.append(distance(p1_lat_series.iloc[i],p1_lon_series.iloc[i],p2_lat_series.iloc[i],p2_lon_series.iloc[i]))\n",
    "    d = pd.Series(distances)\n",
    "    return(d)\n",
    "\n",
    "\n",
    "\n"
   ]
  },
  {
   "cell_type": "code",
   "execution_count": 120,
   "metadata": {},
   "outputs": [],
   "source": [
    "distances_df.columns = distances_df.apply(lambda ser :  \"Distances to \" + ser.name + \" (km)\" )"
   ]
  },
  {
   "cell_type": "code",
   "execution_count": 130,
   "metadata": {},
   "outputs": [],
   "source": [
    "merged_df = pd.concat([df, distances_df], axis=1, sort=False).set_index('Unnamed: 0')\n",
    "merged_df.index.name = \"Index\""
   ]
  },
  {
   "cell_type": "code",
   "execution_count": 132,
   "metadata": {},
   "outputs": [],
   "source": [
    "merged_df.to_csv('data/cords_and_distances.csv')"
   ]
  }
 ],
 "metadata": {
  "kernelspec": {
   "display_name": "Python 3",
   "language": "python",
   "name": "python3"
  },
  "language_info": {
   "codemirror_mode": {
    "name": "ipython",
    "version": 3
   },
   "file_extension": ".py",
   "mimetype": "text/x-python",
   "name": "python",
   "nbconvert_exporter": "python",
   "pygments_lexer": "ipython3",
   "version": "3.7.4"
  }
 },
 "nbformat": 4,
 "nbformat_minor": 2
}
