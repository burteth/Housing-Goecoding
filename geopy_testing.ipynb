{
 "cells": [
  {
   "cell_type": "code",
   "execution_count": 1,
   "metadata": {},
   "outputs": [],
   "source": [
    "import numpy as np\n",
    "import pandas as pd\n",
    "import re\n",
    "import json\n",
    "import matplotlib.pyplot as plt\n",
    "from scipy.stats import norm\n",
    "import matplotlib.mlab as mlab\n",
    "import geopy\n",
    "from geopy.geocoders import Nominatim"
   ]
  },
  {
   "cell_type": "code",
   "execution_count": 2,
   "metadata": {},
   "outputs": [],
   "source": [
    "geolocator = Nominatim(user_agent=\"specify_your_app_name_here\")"
   ]
  },
  {
   "cell_type": "code",
   "execution_count": 3,
   "metadata": {},
   "outputs": [],
   "source": [
    "location = geolocator.geocode(\"2101 Bonisteel Blvd, Ann Arbor, MI 48109\")"
   ]
  },
  {
   "cell_type": "code",
   "execution_count": 4,
   "metadata": {},
   "outputs": [
    {
     "data": {
      "text/plain": [
       "Location(Pierpont Commons, 2101, Bonisteel Boulevard, Ann Arbor, Washtenaw County, Michigan, 48109, United States of America, (42.2911506, -83.71737674545454, 0.0))"
      ]
     },
     "execution_count": 4,
     "metadata": {},
     "output_type": "execute_result"
    }
   ],
   "source": [
    "location"
   ]
  },
  {
   "cell_type": "code",
   "execution_count": 8,
   "metadata": {},
   "outputs": [],
   "source": [
    "addresses = [\"127 Forest Ave Royal Oak\",\"1207 Willard Ann Arbor\",\"960 Birch Hollow Ann Arbor\"]"
   ]
  },
  {
   "cell_type": "code",
   "execution_count": 9,
   "metadata": {},
   "outputs": [
    {
     "data": {
      "text/plain": [
       "([42.496122434343434, 42.2739616, 42.239178],\n",
       " [-83.1440618080808, -83.7341632257313, -83.7161817])"
      ]
     },
     "execution_count": 9,
     "metadata": {},
     "output_type": "execute_result"
    }
   ],
   "source": [
    "get_cords(addresses)"
   ]
  },
  {
   "cell_type": "code",
   "execution_count": 75,
   "metadata": {},
   "outputs": [],
   "source": [
    "from geopy.distance import great_circle\n",
    "def distances(lat,lon):\n",
    "    landmarks = pd.read_csv('..../Housing-Geocoding/Markers Address.csv')\n",
    "    land_lat = list(landmarks[\"latitude\"])\n",
    "    land_lon = list(landmarks[\"longitude\"])\n",
    "    distances = [[None]*len(land_lat)]\n",
    "    for la, lo in zip(lat,lon):\n",
    "        for landmark_lat, landmark_lon, in len(land_lat):\n",
    "            \n",
    "            \n",
    "            \n",
    "            \n",
    "            return(distances)"
   ]
  },
  {
   "cell_type": "code",
   "execution_count": 11,
   "metadata": {},
   "outputs": [],
   "source": [
    "landmarks = pd.read_csv('../Housing-Geocoding/Markers Address.csv')"
   ]
  },
  {
   "cell_type": "code",
   "execution_count": 12,
   "metadata": {},
   "outputs": [],
   "source": [
    "landmarks = landmarks.loc[landmarks[\"Address\"].notna()]"
   ]
  },
  {
   "cell_type": "code",
   "execution_count": 10,
   "metadata": {},
   "outputs": [
    {
     "ename": "NameError",
     "evalue": "name 'landmarks' is not defined",
     "output_type": "error",
     "traceback": [
      "\u001b[0;31m---------------------------------------------------------------------------\u001b[0m",
      "\u001b[0;31mNameError\u001b[0m                                 Traceback (most recent call last)",
      "\u001b[0;32m<ipython-input-10-2555c8a478f2>\u001b[0m in \u001b[0;36m<module>\u001b[0;34m\u001b[0m\n\u001b[0;32m----> 1\u001b[0;31m \u001b[0mlist\u001b[0m\u001b[0;34m(\u001b[0m\u001b[0mlandmarks\u001b[0m\u001b[0;34m[\u001b[0m\u001b[0;34m\"Address\"\u001b[0m\u001b[0;34m]\u001b[0m\u001b[0;34m)\u001b[0m\u001b[0;34m\u001b[0m\u001b[0;34m\u001b[0m\u001b[0m\n\u001b[0m",
      "\u001b[0;31mNameError\u001b[0m: name 'landmarks' is not defined"
     ]
    }
   ],
   "source": [
    "list(landmarks[\"Address\"])"
   ]
  },
  {
   "cell_type": "code",
   "execution_count": 13,
   "metadata": {},
   "outputs": [],
   "source": [
    "landmarks[\"Address\"] = ['1109 Geddes Ave, Ann Arbor, MI 48109',\n",
    " '2101 Bonisteel Blvd, Ann Arbor, MI 48109',\n",
    " '1201 S Main St, Ann Arbor, MI 48104',\n",
    " '317 S State St, Ann Arbor, MI 48104',\n",
    " '530 S State St, Ann Arbor, MI 48109',\n",
    " '701 Tappan Street Ann Arbor, MI 48109',\n",
    " '606 E Hoover Ave, Ann Arbor, MI 48104',\n",
    " '2375 Hubbard Rd, Ann Arbor, MI 48109',\n",
    " '401 Washtenaw Ave, Ann Arbor, MI 48109',\n",
    " '919 S University Ave, Ann Arbor, MI 48109']"
   ]
  },
  {
   "cell_type": "code",
   "execution_count": 14,
   "metadata": {},
   "outputs": [],
   "source": [
    "lat, lon = get_cords(list(landmarks[\"Address\"]))"
   ]
  },
  {
   "cell_type": "code",
   "execution_count": 121,
   "metadata": {},
   "outputs": [],
   "source": [
    "landmarks.drop(columns=['Unnamed: 2', 'Unnamed: 3'], inplace=True)"
   ]
  },
  {
   "cell_type": "code",
   "execution_count": 16,
   "metadata": {},
   "outputs": [],
   "source": [
    "lat[5] = 42.278046"
   ]
  },
  {
   "cell_type": "code",
   "execution_count": 17,
   "metadata": {},
   "outputs": [],
   "source": [
    "lon[5] = -83.738220"
   ]
  },
  {
   "cell_type": "code",
   "execution_count": 127,
   "metadata": {},
   "outputs": [],
   "source": [
    "landmarks[\"Latitude\"] = lat"
   ]
  },
  {
   "cell_type": "code",
   "execution_count": 128,
   "metadata": {},
   "outputs": [],
   "source": [
    "landmarks[\"Longitude\"] = lon"
   ]
  },
  {
   "cell_type": "code",
   "execution_count": 19,
   "metadata": {},
   "outputs": [
    {
     "data": {
      "text/html": [
       "<div>\n",
       "<style scoped>\n",
       "    .dataframe tbody tr th:only-of-type {\n",
       "        vertical-align: middle;\n",
       "    }\n",
       "\n",
       "    .dataframe tbody tr th {\n",
       "        vertical-align: top;\n",
       "    }\n",
       "\n",
       "    .dataframe thead th {\n",
       "        text-align: right;\n",
       "    }\n",
       "</style>\n",
       "<table border=\"1\" class=\"dataframe\">\n",
       "  <thead>\n",
       "    <tr style=\"text-align: right;\">\n",
       "      <th></th>\n",
       "      <th>Unnamed: 0</th>\n",
       "      <th>Landmark</th>\n",
       "      <th>Address</th>\n",
       "      <th>Latitude</th>\n",
       "      <th>Longitude</th>\n",
       "    </tr>\n",
       "  </thead>\n",
       "  <tbody>\n",
       "    <tr>\n",
       "      <th>0</th>\n",
       "      <td>0</td>\n",
       "      <td>CCTC</td>\n",
       "      <td>1109 Geddes Ave, Ann Arbor, MI 48109</td>\n",
       "      <td>42.278165</td>\n",
       "      <td>-83.734749</td>\n",
       "    </tr>\n",
       "    <tr>\n",
       "      <th>1</th>\n",
       "      <td>1</td>\n",
       "      <td>Pierpont</td>\n",
       "      <td>2101 Bonisteel Blvd, Ann Arbor, MI 48109</td>\n",
       "      <td>42.291151</td>\n",
       "      <td>-83.717377</td>\n",
       "    </tr>\n",
       "    <tr>\n",
       "      <th>2</th>\n",
       "      <td>2</td>\n",
       "      <td>Stadium</td>\n",
       "      <td>1201 S Main St, Ann Arbor, MI 48104</td>\n",
       "      <td>42.265865</td>\n",
       "      <td>-83.748684</td>\n",
       "    </tr>\n",
       "    <tr>\n",
       "      <th>3</th>\n",
       "      <td>3</td>\n",
       "      <td>Walgreens on State Street</td>\n",
       "      <td>317 S State St, Ann Arbor, MI 48104</td>\n",
       "      <td>42.278707</td>\n",
       "      <td>-83.740932</td>\n",
       "    </tr>\n",
       "    <tr>\n",
       "      <th>4</th>\n",
       "      <td>4</td>\n",
       "      <td>Union</td>\n",
       "      <td>530 S State St, Ann Arbor, MI 48109</td>\n",
       "      <td>42.275177</td>\n",
       "      <td>-83.741517</td>\n",
       "    </tr>\n",
       "    <tr>\n",
       "      <th>5</th>\n",
       "      <td>5</td>\n",
       "      <td>Ross</td>\n",
       "      <td>701 Tappan Street Ann Arbor, MI 48109</td>\n",
       "      <td>42.278046</td>\n",
       "      <td>-83.738220</td>\n",
       "    </tr>\n",
       "    <tr>\n",
       "      <th>6</th>\n",
       "      <td>6</td>\n",
       "      <td>IM</td>\n",
       "      <td>606 E Hoover Ave, Ann Arbor, MI 48104</td>\n",
       "      <td>42.269382</td>\n",
       "      <td>-83.749068</td>\n",
       "    </tr>\n",
       "    <tr>\n",
       "      <th>7</th>\n",
       "      <td>7</td>\n",
       "      <td>NCRB</td>\n",
       "      <td>2375 Hubbard Rd, Ann Arbor, MI 48109</td>\n",
       "      <td>42.295156</td>\n",
       "      <td>-83.714627</td>\n",
       "    </tr>\n",
       "    <tr>\n",
       "      <th>8</th>\n",
       "      <td>8</td>\n",
       "      <td>CCRB</td>\n",
       "      <td>401 Washtenaw Ave, Ann Arbor, MI 48109</td>\n",
       "      <td>42.281104</td>\n",
       "      <td>-83.733603</td>\n",
       "    </tr>\n",
       "    <tr>\n",
       "      <th>9</th>\n",
       "      <td>9</td>\n",
       "      <td>UGLI</td>\n",
       "      <td>919 S University Ave, Ann Arbor, MI 48109</td>\n",
       "      <td>42.275654</td>\n",
       "      <td>-83.737176</td>\n",
       "    </tr>\n",
       "  </tbody>\n",
       "</table>\n",
       "</div>"
      ],
      "text/plain": [
       "   Unnamed: 0                   Landmark  \\\n",
       "0           0                       CCTC   \n",
       "1           1                   Pierpont   \n",
       "2           2                    Stadium   \n",
       "3           3  Walgreens on State Street   \n",
       "4           4                      Union   \n",
       "5           5                       Ross   \n",
       "6           6                         IM   \n",
       "7           7                       NCRB   \n",
       "8           8                       CCRB   \n",
       "9           9                       UGLI   \n",
       "\n",
       "                                     Address   Latitude  Longitude  \n",
       "0       1109 Geddes Ave, Ann Arbor, MI 48109  42.278165 -83.734749  \n",
       "1   2101 Bonisteel Blvd, Ann Arbor, MI 48109  42.291151 -83.717377  \n",
       "2        1201 S Main St, Ann Arbor, MI 48104  42.265865 -83.748684  \n",
       "3        317 S State St, Ann Arbor, MI 48104  42.278707 -83.740932  \n",
       "4        530 S State St, Ann Arbor, MI 48109  42.275177 -83.741517  \n",
       "5      701 Tappan Street Ann Arbor, MI 48109  42.278046 -83.738220  \n",
       "6      606 E Hoover Ave, Ann Arbor, MI 48104  42.269382 -83.749068  \n",
       "7       2375 Hubbard Rd, Ann Arbor, MI 48109  42.295156 -83.714627  \n",
       "8     401 Washtenaw Ave, Ann Arbor, MI 48109  42.281104 -83.733603  \n",
       "9  919 S University Ave, Ann Arbor, MI 48109  42.275654 -83.737176  "
      ]
     },
     "execution_count": 19,
     "metadata": {},
     "output_type": "execute_result"
    }
   ],
   "source": [
    "landmarks"
   ]
  },
  {
   "cell_type": "code",
   "execution_count": 57,
   "metadata": {},
   "outputs": [],
   "source": [
    "def get_cords(x):\n",
    "    lat = []\n",
    "    lon = []\n",
    "    geolocator = Nominatim(user_agent=\"specify_your_app_name_here\")\n",
    "    #counter = 0\n",
    "    #total = len(x)\n",
    "    for i in x:\n",
    "        #counter += 1\n",
    "        \n",
    "        try:\n",
    "            if \"ann arbor\" not in x:\n",
    "                i += \" ann arbor\"\n",
    "            location = geolocator.geocode(i)\n",
    "            lat.append(location.latitude)\n",
    "            lon.append(location.longitude)\n",
    "        except:\n",
    "            lat.append(\"NaN\")\n",
    "            lon.append(\"NaN\")\n",
    "        print(i)\n",
    "        #if counter % 100 == 0:\n",
    "            #print(counter)\n",
    "    return(lat,lon)"
   ]
  },
  {
   "cell_type": "code",
   "execution_count": 29,
   "metadata": {},
   "outputs": [],
   "source": [
    "df = pd.read_csv('cleandata.csv', index_col=\"Unnamed: 0\")"
   ]
  },
  {
   "cell_type": "code",
   "execution_count": 30,
   "metadata": {},
   "outputs": [
    {
     "data": {
      "text/plain": [
       "Index(['address', 'price'], dtype='object')"
      ]
     },
     "execution_count": 30,
     "metadata": {},
     "output_type": "execute_result"
    }
   ],
   "source": [
    "df.columns"
   ]
  },
  {
   "cell_type": "code",
   "execution_count": 31,
   "metadata": {},
   "outputs": [
    {
     "data": {
      "text/html": [
       "<div>\n",
       "<style scoped>\n",
       "    .dataframe tbody tr th:only-of-type {\n",
       "        vertical-align: middle;\n",
       "    }\n",
       "\n",
       "    .dataframe tbody tr th {\n",
       "        vertical-align: top;\n",
       "    }\n",
       "\n",
       "    .dataframe thead th {\n",
       "        text-align: right;\n",
       "    }\n",
       "</style>\n",
       "<table border=\"1\" class=\"dataframe\">\n",
       "  <thead>\n",
       "    <tr style=\"text-align: right;\">\n",
       "      <th></th>\n",
       "      <th>address</th>\n",
       "      <th>price</th>\n",
       "    </tr>\n",
       "  </thead>\n",
       "  <tbody>\n",
       "    <tr>\n",
       "      <th>0</th>\n",
       "      <td>3050 birch hollow dr</td>\n",
       "      <td>1095.0</td>\n",
       "    </tr>\n",
       "    <tr>\n",
       "      <th>1</th>\n",
       "      <td>912 rose ave</td>\n",
       "      <td>2000.0</td>\n",
       "    </tr>\n",
       "    <tr>\n",
       "      <th>3</th>\n",
       "      <td>1505 natalie lane</td>\n",
       "      <td>1385.0</td>\n",
       "    </tr>\n",
       "    <tr>\n",
       "      <th>4</th>\n",
       "      <td>1505 natalie lane</td>\n",
       "      <td>1185.0</td>\n",
       "    </tr>\n",
       "    <tr>\n",
       "      <th>6</th>\n",
       "      <td>1505 natalie lane</td>\n",
       "      <td>1375.0</td>\n",
       "    </tr>\n",
       "  </tbody>\n",
       "</table>\n",
       "</div>"
      ],
      "text/plain": [
       "                address   price\n",
       "0  3050 birch hollow dr  1095.0\n",
       "1          912 rose ave  2000.0\n",
       "3     1505 natalie lane  1385.0\n",
       "4     1505 natalie lane  1185.0\n",
       "6     1505 natalie lane  1375.0"
      ]
     },
     "execution_count": 31,
     "metadata": {},
     "output_type": "execute_result"
    }
   ],
   "source": [
    "df.head()"
   ]
  },
  {
   "cell_type": "code",
   "execution_count": 34,
   "metadata": {},
   "outputs": [
    {
     "data": {
      "text/plain": [
       "6917"
      ]
     },
     "execution_count": 34,
     "metadata": {},
     "output_type": "execute_result"
    }
   ],
   "source": [
    "addresses = df[\"address\"]\n",
    "addresses.count()"
   ]
  },
  {
   "cell_type": "code",
   "execution_count": 37,
   "metadata": {},
   "outputs": [],
   "source": [
    "cut_addresses = list(addresses[:2000])"
   ]
  },
  {
   "cell_type": "code",
   "execution_count": 38,
   "metadata": {},
   "outputs": [],
   "source": [
    "lat, lon = get_cords(cut_addresses)"
   ]
  },
  {
   "cell_type": "code",
   "execution_count": 46,
   "metadata": {},
   "outputs": [
    {
     "name": "stdout",
     "output_type": "stream",
     "text": [
      "42.6764476 -83.2686571 2911 bynan\n"
     ]
    }
   ],
   "source": [
    "x = 145\n",
    "print(lat[x], lon[x],cut_addresses[x])"
   ]
  },
  {
   "cell_type": "code",
   "execution_count": 58,
   "metadata": {},
   "outputs": [],
   "source": [
    "test_addys = ['1505 natalie lane','406 montgomery','2911 bynan']"
   ]
  },
  {
   "cell_type": "code",
   "execution_count": 59,
   "metadata": {},
   "outputs": [
    {
     "name": "stdout",
     "output_type": "stream",
     "text": [
      "1505 natalie lane ann arbor\n",
      "406 montgomery ann arbor\n",
      "2911 bynan ann arbor\n"
     ]
    }
   ],
   "source": [
    "a, b = get_cords(test_addys)"
   ]
  },
  {
   "cell_type": "code",
   "execution_count": 56,
   "metadata": {},
   "outputs": [
    {
     "name": "stdout",
     "output_type": "stream",
     "text": [
      "['NaN', 'NaN', 'NaN'] ['NaN', 'NaN', 'NaN']\n"
     ]
    }
   ],
   "source": [
    "print(a,b)"
   ]
  },
  {
   "cell_type": "code",
   "execution_count": 62,
   "metadata": {},
   "outputs": [],
   "source": [
    "i = '1505 natalie lane ann arbor'\n",
    "#geolocator = Nominatim(user_agent=\"specify_your_app_name_here\")\n",
    "#location = geolocator.geocode(i)\n",
    "#print(location.latitude)\n",
    "#print(location.longitude)\n"
   ]
  },
  {
   "cell_type": "code",
   "execution_count": 71,
   "metadata": {},
   "outputs": [],
   "source": [
    "lat_2 = pd.Series(lat)\n",
    "lon_2 = pd.Series(lon)"
   ]
  },
  {
   "cell_type": "code",
   "execution_count": 72,
   "metadata": {},
   "outputs": [
    {
     "data": {
      "text/plain": [
       "count     2000\n",
       "unique     264\n",
       "top        NaN\n",
       "freq       791\n",
       "dtype: object"
      ]
     },
     "execution_count": 72,
     "metadata": {},
     "output_type": "execute_result"
    }
   ],
   "source": [
    "lat_2.describe()"
   ]
  },
  {
   "cell_type": "code",
   "execution_count": 75,
   "metadata": {},
   "outputs": [],
   "source": [
    "#lat_2.head(100),lon_2.head()"
   ]
  },
  {
   "cell_type": "code",
   "execution_count": 77,
   "metadata": {},
   "outputs": [
    {
     "name": "stdout",
     "output_type": "stream",
     "text": [
      "51.5290971 0.0317683 1837 davis st.\n"
     ]
    }
   ],
   "source": [
    "x = 500\n",
    "print(lat_2[x], lon_2[x],cut_addresses[x])"
   ]
  },
  {
   "cell_type": "code",
   "execution_count": 83,
   "metadata": {},
   "outputs": [
    {
     "data": {
      "text/html": [
       "<div>\n",
       "<style scoped>\n",
       "    .dataframe tbody tr th:only-of-type {\n",
       "        vertical-align: middle;\n",
       "    }\n",
       "\n",
       "    .dataframe tbody tr th {\n",
       "        vertical-align: top;\n",
       "    }\n",
       "\n",
       "    .dataframe thead th {\n",
       "        text-align: right;\n",
       "    }\n",
       "</style>\n",
       "<table border=\"1\" class=\"dataframe\">\n",
       "  <thead>\n",
       "    <tr style=\"text-align: right;\">\n",
       "      <th></th>\n",
       "      <th>address</th>\n",
       "      <th>price</th>\n",
       "    </tr>\n",
       "  </thead>\n",
       "  <tbody>\n",
       "    <tr>\n",
       "      <th>0</th>\n",
       "      <td>3050 birch hollow dr</td>\n",
       "      <td>1095.0</td>\n",
       "    </tr>\n",
       "    <tr>\n",
       "      <th>1</th>\n",
       "      <td>912 rose ave</td>\n",
       "      <td>2000.0</td>\n",
       "    </tr>\n",
       "    <tr>\n",
       "      <th>3</th>\n",
       "      <td>1505 natalie lane</td>\n",
       "      <td>1385.0</td>\n",
       "    </tr>\n",
       "    <tr>\n",
       "      <th>4</th>\n",
       "      <td>1505 natalie lane</td>\n",
       "      <td>1185.0</td>\n",
       "    </tr>\n",
       "    <tr>\n",
       "      <th>6</th>\n",
       "      <td>1505 natalie lane</td>\n",
       "      <td>1375.0</td>\n",
       "    </tr>\n",
       "  </tbody>\n",
       "</table>\n",
       "</div>"
      ],
      "text/plain": [
       "                address   price\n",
       "0  3050 birch hollow dr  1095.0\n",
       "1          912 rose ave  2000.0\n",
       "3     1505 natalie lane  1385.0\n",
       "4     1505 natalie lane  1185.0\n",
       "6     1505 natalie lane  1375.0"
      ]
     },
     "execution_count": 83,
     "metadata": {},
     "output_type": "execute_result"
    }
   ],
   "source": [
    "new_cut = df[:2000]"
   ]
  },
  {
   "cell_type": "code",
   "execution_count": 88,
   "metadata": {},
   "outputs": [
    {
     "name": "stderr",
     "output_type": "stream",
     "text": [
      "/anaconda3/lib/python3.7/site-packages/ipykernel_launcher.py:1: SettingWithCopyWarning: \n",
      "A value is trying to be set on a copy of a slice from a DataFrame.\n",
      "Try using .loc[row_indexer,col_indexer] = value instead\n",
      "\n",
      "See the caveats in the documentation: http://pandas.pydata.org/pandas-docs/stable/indexing.html#indexing-view-versus-copy\n",
      "  \"\"\"Entry point for launching an IPython kernel.\n",
      "/anaconda3/lib/python3.7/site-packages/ipykernel_launcher.py:2: SettingWithCopyWarning: \n",
      "A value is trying to be set on a copy of a slice from a DataFrame.\n",
      "Try using .loc[row_indexer,col_indexer] = value instead\n",
      "\n",
      "See the caveats in the documentation: http://pandas.pydata.org/pandas-docs/stable/indexing.html#indexing-view-versus-copy\n",
      "  \n"
     ]
    }
   ],
   "source": [
    "new_cut[\"Latitude\"] = lat_2\n",
    "new_cut[\"Longitude\"] = lon_2"
   ]
  },
  {
   "cell_type": "code",
   "execution_count": 89,
   "metadata": {},
   "outputs": [
    {
     "name": "stdout",
     "output_type": "stream",
     "text": [
      "<class 'pandas.core.frame.DataFrame'>\n",
      "Int64Index: 2000 entries, 0 to 3368\n",
      "Data columns (total 4 columns):\n",
      "address      2000 non-null object\n",
      "price        2000 non-null float64\n",
      "Latitude     1148 non-null object\n",
      "Longitude    1148 non-null object\n",
      "dtypes: float64(1), object(3)\n",
      "memory usage: 78.1+ KB\n"
     ]
    }
   ],
   "source": [
    "new_cut.info()"
   ]
  },
  {
   "cell_type": "code",
   "execution_count": 91,
   "metadata": {},
   "outputs": [],
   "source": [
    "new_cut.to_csv(\"initial_attempt.csv\")"
   ]
  },
  {
   "cell_type": "code",
   "execution_count": null,
   "metadata": {},
   "outputs": [],
   "source": []
  }
 ],
 "metadata": {
  "kernelspec": {
   "display_name": "Python 3",
   "language": "python",
   "name": "python3"
  },
  "language_info": {
   "codemirror_mode": {
    "name": "ipython",
    "version": 3
   },
   "file_extension": ".py",
   "mimetype": "text/x-python",
   "name": "python",
   "nbconvert_exporter": "python",
   "pygments_lexer": "ipython3",
   "version": "3.7.1"
  }
 },
 "nbformat": 4,
 "nbformat_minor": 2
}
