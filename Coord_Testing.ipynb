{
 "cells": [
  {
   "cell_type": "code",
   "execution_count": 77,
   "metadata": {},
   "outputs": [],
   "source": [
    "import numpy as np\n",
    "import pandas as pd\n",
    "import geopy\n",
    "import numba\n",
    "from geopy.geocoders import Nominatim\n",
    "from timeit import default_timer as timer"
   ]
  },
  {
   "cell_type": "code",
   "execution_count": 78,
   "metadata": {},
   "outputs": [],
   "source": [
    "geolocator = Nominatim(user_agent=\"grant\")"
   ]
  },
  {
   "cell_type": "code",
   "execution_count": 79,
   "metadata": {},
   "outputs": [],
   "source": [
    "df = pd.read_csv('/Users/gbarry/desktop/cleandata.csv')"
   ]
  },
  {
   "cell_type": "code",
   "execution_count": 80,
   "metadata": {},
   "outputs": [
    {
     "data": {
      "text/html": [
       "<div>\n",
       "<style scoped>\n",
       "    .dataframe tbody tr th:only-of-type {\n",
       "        vertical-align: middle;\n",
       "    }\n",
       "\n",
       "    .dataframe tbody tr th {\n",
       "        vertical-align: top;\n",
       "    }\n",
       "\n",
       "    .dataframe thead th {\n",
       "        text-align: right;\n",
       "    }\n",
       "</style>\n",
       "<table border=\"1\" class=\"dataframe\">\n",
       "  <thead>\n",
       "    <tr style=\"text-align: right;\">\n",
       "      <th></th>\n",
       "      <th>Unnamed: 0</th>\n",
       "      <th>address</th>\n",
       "      <th>price</th>\n",
       "    </tr>\n",
       "  </thead>\n",
       "  <tbody>\n",
       "    <tr>\n",
       "      <td>0</td>\n",
       "      <td>0</td>\n",
       "      <td>3050 birch hollow dr</td>\n",
       "      <td>1095.0</td>\n",
       "    </tr>\n",
       "    <tr>\n",
       "      <td>1</td>\n",
       "      <td>1</td>\n",
       "      <td>912 rose ave</td>\n",
       "      <td>2000.0</td>\n",
       "    </tr>\n",
       "    <tr>\n",
       "      <td>2</td>\n",
       "      <td>3</td>\n",
       "      <td>1505 natalie lane</td>\n",
       "      <td>1385.0</td>\n",
       "    </tr>\n",
       "    <tr>\n",
       "      <td>3</td>\n",
       "      <td>4</td>\n",
       "      <td>1505 natalie lane</td>\n",
       "      <td>1185.0</td>\n",
       "    </tr>\n",
       "    <tr>\n",
       "      <td>4</td>\n",
       "      <td>6</td>\n",
       "      <td>1505 natalie lane</td>\n",
       "      <td>1375.0</td>\n",
       "    </tr>\n",
       "  </tbody>\n",
       "</table>\n",
       "</div>"
      ],
      "text/plain": [
       "   Unnamed: 0               address   price\n",
       "0           0  3050 birch hollow dr  1095.0\n",
       "1           1          912 rose ave  2000.0\n",
       "2           3     1505 natalie lane  1385.0\n",
       "3           4     1505 natalie lane  1185.0\n",
       "4           6     1505 natalie lane  1375.0"
      ]
     },
     "execution_count": 80,
     "metadata": {},
     "output_type": "execute_result"
    }
   ],
   "source": [
    "df.head()"
   ]
  },
  {
   "cell_type": "code",
   "execution_count": 37,
   "metadata": {},
   "outputs": [],
   "source": [
    "def add_arbor(list):\n",
    "    newaddy = []\n",
    "    for addr in list:\n",
    "        if addr.find(\"ann arbor\") == -1:\n",
    "            new = addr + \" ann arbor\"\n",
    "                \n",
    "        if addr.find(\"michigan\") == -1:\n",
    "            new = new + \" michigan\"\n",
    "            \n",
    "        newaddy.append(new)\n",
    "    return newaddy"
   ]
  },
  {
   "cell_type": "code",
   "execution_count": 38,
   "metadata": {},
   "outputs": [],
   "source": [
    "df_test = df['address'][:100]\n",
    "df_test = add_arbor(df_test)"
   ]
  },
  {
   "cell_type": "code",
   "execution_count": null,
   "metadata": {},
   "outputs": [],
   "source": [
    "def timer(counter, list):\n",
    "    "
   ]
  },
  {
   "cell_type": "code",
   "execution_count": 76,
   "metadata": {},
   "outputs": [],
   "source": [
    "\n",
    "def find_coord(array):\n",
    "    latitude = []\n",
    "    longitude = []\n",
    "    \n",
    "    divisor = len(array)/100\n",
    "    counter = 0\n",
    "    for addr in array:\n",
    "        \n",
    "        counter += 1\n",
    "        if not counter%divisor:\n",
    "            print((counter/len(array)) * 100,'%',end='\\r')\n",
    "            \n",
    "        try: \n",
    "            location = geolocator.geocode(addr)\n",
    "            lat = location.latitude\n",
    "            long = location.longitude\n",
    "            latitude.append(lat)\n",
    "            longitude.append(long)\n",
    "        except:\n",
    "            lat = None\n",
    "            long = None\n",
    "            latitude.append(lat)\n",
    "            longitude.append(long)    \n",
    "        \n",
    "    return(latitude,longitude)"
   ]
  },
  {
   "cell_type": "code",
   "execution_count": 59,
   "metadata": {},
   "outputs": [
    {
     "name": "stdout",
     "output_type": "stream",
     "text": [
      "100.0 %9999999999 %%\r"
     ]
    }
   ],
   "source": [
    "lat,long = find_coord(df_test)"
   ]
  },
  {
   "cell_type": "code",
   "execution_count": 48,
   "metadata": {},
   "outputs": [],
   "source": [
    "lat = pd.Series(lat)\n",
    "long = pd.Series(long)\n",
    "pd_new = pd.DataFrame()\n",
    "pd_new = pd.concat([lat, long], axis=1, keys=['lat', 'long'])"
   ]
  },
  {
   "cell_type": "code",
   "execution_count": 49,
   "metadata": {},
   "outputs": [
    {
     "name": "stdout",
     "output_type": "stream",
     "text": [
      "percent NaN = 43.4 %\n"
     ]
    }
   ],
   "source": [
    "pd_na = pd_new[pd_new['lat'].isna()]\n",
    "len(pd_na.index)\n",
    "print(\"percent NaN =\", (len(pd_na.index)/len(pd_new.index))*100, \"%\")"
   ]
  },
  {
   "cell_type": "code",
   "execution_count": 75,
   "metadata": {},
   "outputs": [
    {
     "data": {
      "text/plain": [
       "10.245723023989214"
      ]
     },
     "execution_count": 75,
     "metadata": {},
     "output_type": "execute_result"
    }
   ],
   "source": [
    "import numba\n",
    "from random import random\n",
    "\n",
    "@numba.jit\n",
    "def sum():\n",
    "    total = 0\n",
    "    for i in range(100000000):\n",
    "        total += random()\n",
    "    return total\n",
    "\n",
    "def sum2():\n",
    "    total = 0\n",
    "    for i in range(100000000):\n",
    "        total += random()\n",
    "    return total\n",
    "\n",
    "\n",
    "start = timer()\n",
    "hi = sum()\n",
    "duration1 = timer() - start\n",
    "duration1\n",
    "\n",
    "start2 = timer()\n",
    "hi2 = sum2()\n",
    "duration2 = timer() - start2\n",
    "\n",
    "duration2/duration1"
   ]
  },
  {
   "cell_type": "code",
   "execution_count": 71,
   "metadata": {},
   "outputs": [],
   "source": []
  },
  {
   "cell_type": "code",
   "execution_count": null,
   "metadata": {},
   "outputs": [],
   "source": []
  }
 ],
 "metadata": {
  "kernelspec": {
   "display_name": "Python 3",
   "language": "python",
   "name": "python3"
  },
  "language_info": {
   "codemirror_mode": {
    "name": "ipython",
    "version": 3
   },
   "file_extension": ".py",
   "mimetype": "text/x-python",
   "name": "python",
   "nbconvert_exporter": "python",
   "pygments_lexer": "ipython3",
   "version": "3.7.4"
  }
 },
 "nbformat": 4,
 "nbformat_minor": 2
}
